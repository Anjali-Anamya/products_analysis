{
 "cells": [
  {
   "cell_type": "code",
   "execution_count": 3,
   "id": "488868c3-b9f2-427a-a4ea-af104ccff752",
   "metadata": {},
   "outputs": [],
   "source": [
    "import requests\n",
    "import pandas as pd\n"
   ]
  },
  {
   "cell_type": "code",
   "execution_count": 2,
   "id": "065f8351-12d7-4e93-9d22-2f31cfaff663",
   "metadata": {},
   "outputs": [],
   "source": [
    "url=\"https://fakestoreapi.com/products\""
   ]
  },
  {
   "cell_type": "code",
   "execution_count": 3,
   "id": "14164165-707a-49ee-9f08-a1d50d8d0d21",
   "metadata": {},
   "outputs": [],
   "source": [
    "response=requests.get(url)"
   ]
  },
  {
   "cell_type": "code",
   "execution_count": 4,
   "id": "097b345e-ecce-4929-b8e8-22defb538cd6",
   "metadata": {},
   "outputs": [],
   "source": [
    "products=response.json()"
   ]
  },
  {
   "cell_type": "code",
   "execution_count": 5,
   "id": "7dacc369-32f6-4029-a870-99c677116322",
   "metadata": {},
   "outputs": [],
   "source": [
    "df=pd.DataFrame(products)"
   ]
  },
  {
   "cell_type": "code",
   "execution_count": 6,
   "id": "b7c9e0a5-8926-47b8-ad5f-7bd757416ef3",
   "metadata": {},
   "outputs": [
    {
     "name": "stdout",
     "output_type": "stream",
     "text": [
      "Product data fetched successfully\n"
     ]
    }
   ],
   "source": [
    "df.to_csv(\"../data/products_raw.csv\",index=False)\n",
    "print(\"Product data fetched successfully\")"
   ]
  },
  {
   "cell_type": "code",
   "execution_count": 7,
   "id": "7d949039-a185-4993-b03b-0c03ef129e43",
   "metadata": {},
   "outputs": [
    {
     "data": {
      "text/html": [
       "<div>\n",
       "<style scoped>\n",
       "    .dataframe tbody tr th:only-of-type {\n",
       "        vertical-align: middle;\n",
       "    }\n",
       "\n",
       "    .dataframe tbody tr th {\n",
       "        vertical-align: top;\n",
       "    }\n",
       "\n",
       "    .dataframe thead th {\n",
       "        text-align: right;\n",
       "    }\n",
       "</style>\n",
       "<table border=\"1\" class=\"dataframe\">\n",
       "  <thead>\n",
       "    <tr style=\"text-align: right;\">\n",
       "      <th></th>\n",
       "      <th>id</th>\n",
       "      <th>title</th>\n",
       "      <th>price</th>\n",
       "      <th>description</th>\n",
       "      <th>category</th>\n",
       "      <th>image</th>\n",
       "      <th>rating</th>\n",
       "    </tr>\n",
       "  </thead>\n",
       "  <tbody>\n",
       "    <tr>\n",
       "      <th>0</th>\n",
       "      <td>1</td>\n",
       "      <td>Fjallraven - Foldsack No. 1 Backpack, Fits 15 ...</td>\n",
       "      <td>109.95</td>\n",
       "      <td>Your perfect pack for everyday use and walks i...</td>\n",
       "      <td>men's clothing</td>\n",
       "      <td>https://fakestoreapi.com/img/81fPKd-2AYL._AC_S...</td>\n",
       "      <td>{'rate': 3.9, 'count': 120}</td>\n",
       "    </tr>\n",
       "    <tr>\n",
       "      <th>1</th>\n",
       "      <td>2</td>\n",
       "      <td>Mens Casual Premium Slim Fit T-Shirts</td>\n",
       "      <td>22.30</td>\n",
       "      <td>Slim-fitting style, contrast raglan long sleev...</td>\n",
       "      <td>men's clothing</td>\n",
       "      <td>https://fakestoreapi.com/img/71-3HjGNDUL._AC_S...</td>\n",
       "      <td>{'rate': 4.1, 'count': 259}</td>\n",
       "    </tr>\n",
       "    <tr>\n",
       "      <th>2</th>\n",
       "      <td>3</td>\n",
       "      <td>Mens Cotton Jacket</td>\n",
       "      <td>55.99</td>\n",
       "      <td>great outerwear jackets for Spring/Autumn/Wint...</td>\n",
       "      <td>men's clothing</td>\n",
       "      <td>https://fakestoreapi.com/img/71li-ujtlUL._AC_U...</td>\n",
       "      <td>{'rate': 4.7, 'count': 500}</td>\n",
       "    </tr>\n",
       "    <tr>\n",
       "      <th>3</th>\n",
       "      <td>4</td>\n",
       "      <td>Mens Casual Slim Fit</td>\n",
       "      <td>15.99</td>\n",
       "      <td>The color could be slightly different between ...</td>\n",
       "      <td>men's clothing</td>\n",
       "      <td>https://fakestoreapi.com/img/71YXzeOuslL._AC_U...</td>\n",
       "      <td>{'rate': 2.1, 'count': 430}</td>\n",
       "    </tr>\n",
       "    <tr>\n",
       "      <th>4</th>\n",
       "      <td>5</td>\n",
       "      <td>John Hardy Women's Legends Naga Gold &amp; Silver ...</td>\n",
       "      <td>695.00</td>\n",
       "      <td>From our Legends Collection, the Naga was insp...</td>\n",
       "      <td>jewelery</td>\n",
       "      <td>https://fakestoreapi.com/img/71pWzhdJNwL._AC_U...</td>\n",
       "      <td>{'rate': 4.6, 'count': 400}</td>\n",
       "    </tr>\n",
       "  </tbody>\n",
       "</table>\n",
       "</div>"
      ],
      "text/plain": [
       "   id                                              title   price  \\\n",
       "0   1  Fjallraven - Foldsack No. 1 Backpack, Fits 15 ...  109.95   \n",
       "1   2             Mens Casual Premium Slim Fit T-Shirts    22.30   \n",
       "2   3                                 Mens Cotton Jacket   55.99   \n",
       "3   4                               Mens Casual Slim Fit   15.99   \n",
       "4   5  John Hardy Women's Legends Naga Gold & Silver ...  695.00   \n",
       "\n",
       "                                         description        category  \\\n",
       "0  Your perfect pack for everyday use and walks i...  men's clothing   \n",
       "1  Slim-fitting style, contrast raglan long sleev...  men's clothing   \n",
       "2  great outerwear jackets for Spring/Autumn/Wint...  men's clothing   \n",
       "3  The color could be slightly different between ...  men's clothing   \n",
       "4  From our Legends Collection, the Naga was insp...        jewelery   \n",
       "\n",
       "                                               image  \\\n",
       "0  https://fakestoreapi.com/img/81fPKd-2AYL._AC_S...   \n",
       "1  https://fakestoreapi.com/img/71-3HjGNDUL._AC_S...   \n",
       "2  https://fakestoreapi.com/img/71li-ujtlUL._AC_U...   \n",
       "3  https://fakestoreapi.com/img/71YXzeOuslL._AC_U...   \n",
       "4  https://fakestoreapi.com/img/71pWzhdJNwL._AC_U...   \n",
       "\n",
       "                        rating  \n",
       "0  {'rate': 3.9, 'count': 120}  \n",
       "1  {'rate': 4.1, 'count': 259}  \n",
       "2  {'rate': 4.7, 'count': 500}  \n",
       "3  {'rate': 2.1, 'count': 430}  \n",
       "4  {'rate': 4.6, 'count': 400}  "
      ]
     },
     "execution_count": 7,
     "metadata": {},
     "output_type": "execute_result"
    }
   ],
   "source": [
    "df.head()"
   ]
  },
  {
   "cell_type": "markdown",
   "id": "3b90bbcb-a842-418a-907e-69925937f94a",
   "metadata": {},
   "source": [
    "DROP ALL NULL VALUES"
   ]
  },
  {
   "cell_type": "code",
   "execution_count": 10,
   "id": "a2368214-d93c-43b7-8d12-2d66bd822923",
   "metadata": {},
   "outputs": [
    {
     "name": "stdout",
     "output_type": "stream",
     "text": [
      "Before remob=ving null values->\n",
      "Total no. of rows are:20\n"
     ]
    }
   ],
   "source": [
    "print(f\"Before removing null values->\\nTotal no. of rows are:{len(df)}\")"
   ]
  },
  {
   "cell_type": "code",
   "execution_count": 11,
   "id": "cdf37430-3d4a-4a12-b87d-c5112442d11b",
   "metadata": {},
   "outputs": [],
   "source": [
    "df=df.dropna()"
   ]
  },
  {
   "cell_type": "code",
   "execution_count": 12,
   "id": "a2e7e8a9-22ea-456f-988f-638bf2295b1c",
   "metadata": {},
   "outputs": [
    {
     "name": "stdout",
     "output_type": "stream",
     "text": [
      "After removing null values->\n",
      "Total no. of rows are:20\n"
     ]
    }
   ],
   "source": [
    "print(f\"After removing null values->\\nTotal no. of rows are:{len(df)}\")"
   ]
  },
  {
   "cell_type": "markdown",
   "id": "783d3a4a-3a57-42cb-9536-8a93d19e7e79",
   "metadata": {},
   "source": [
    "NO NULL ROWS"
   ]
  },
  {
   "cell_type": "markdown",
   "id": "20765755-c497-4bc4-8e7d-9dd31dc3c457",
   "metadata": {},
   "source": [
    "REMOVING DUPLICATE ROWS"
   ]
  },
  {
   "cell_type": "markdown",
   "id": "31df1934-b0a9-40af-9ae2-4b9dff749d40",
   "metadata": {},
   "source": [
    "Since rating is in unhashable form we will extract it first before droping duplicates"
   ]
  },
  {
   "cell_type": "code",
   "execution_count": 14,
   "id": "7c0d0931-00e0-48ed-baf3-4018e6320fbf",
   "metadata": {},
   "outputs": [],
   "source": [
    "df['rating_rate']=df['rating'].apply(lambda x:x['rate'])\n",
    "df['rating_count']=df['rating'].apply(lambda x:x['count'])"
   ]
  },
  {
   "cell_type": "code",
   "execution_count": 15,
   "id": "e43b5166-5b3b-41ce-b83c-2f841b58bb4d",
   "metadata": {},
   "outputs": [],
   "source": [
    "df=df.drop(columns=['rating'])"
   ]
  },
  {
   "cell_type": "code",
   "execution_count": 17,
   "id": "650a9b3e-eb79-4c0f-892a-42fad5fe1635",
   "metadata": {},
   "outputs": [
    {
     "data": {
      "text/html": [
       "<div>\n",
       "<style scoped>\n",
       "    .dataframe tbody tr th:only-of-type {\n",
       "        vertical-align: middle;\n",
       "    }\n",
       "\n",
       "    .dataframe tbody tr th {\n",
       "        vertical-align: top;\n",
       "    }\n",
       "\n",
       "    .dataframe thead th {\n",
       "        text-align: right;\n",
       "    }\n",
       "</style>\n",
       "<table border=\"1\" class=\"dataframe\">\n",
       "  <thead>\n",
       "    <tr style=\"text-align: right;\">\n",
       "      <th></th>\n",
       "      <th>id</th>\n",
       "      <th>title</th>\n",
       "      <th>price</th>\n",
       "      <th>description</th>\n",
       "      <th>category</th>\n",
       "      <th>image</th>\n",
       "      <th>rating_rate</th>\n",
       "      <th>rating_count</th>\n",
       "    </tr>\n",
       "  </thead>\n",
       "  <tbody>\n",
       "    <tr>\n",
       "      <th>0</th>\n",
       "      <td>1</td>\n",
       "      <td>Fjallraven - Foldsack No. 1 Backpack, Fits 15 ...</td>\n",
       "      <td>109.95</td>\n",
       "      <td>Your perfect pack for everyday use and walks i...</td>\n",
       "      <td>men's clothing</td>\n",
       "      <td>https://fakestoreapi.com/img/81fPKd-2AYL._AC_S...</td>\n",
       "      <td>3.9</td>\n",
       "      <td>120</td>\n",
       "    </tr>\n",
       "  </tbody>\n",
       "</table>\n",
       "</div>"
      ],
      "text/plain": [
       "   id                                              title   price  \\\n",
       "0   1  Fjallraven - Foldsack No. 1 Backpack, Fits 15 ...  109.95   \n",
       "\n",
       "                                         description        category  \\\n",
       "0  Your perfect pack for everyday use and walks i...  men's clothing   \n",
       "\n",
       "                                               image  rating_rate  \\\n",
       "0  https://fakestoreapi.com/img/81fPKd-2AYL._AC_S...          3.9   \n",
       "\n",
       "   rating_count  \n",
       "0           120  "
      ]
     },
     "execution_count": 17,
     "metadata": {},
     "output_type": "execute_result"
    }
   ],
   "source": [
    "df.head(1)"
   ]
  },
  {
   "cell_type": "code",
   "execution_count": 18,
   "id": "4a62b06d-38a9-441f-945b-cd80a33869a8",
   "metadata": {},
   "outputs": [],
   "source": [
    "df=df.drop_duplicates() "
   ]
  },
  {
   "cell_type": "code",
   "execution_count": 19,
   "id": "3f53e365-9bcb-4144-a000-165e4e2518e0",
   "metadata": {},
   "outputs": [
    {
     "name": "stdout",
     "output_type": "stream",
     "text": [
      "After removing duplicate rows->\n",
      "Total no. of rows are:20\n"
     ]
    }
   ],
   "source": [
    "print(f\"After removing duplicate rows->\\nTotal no. of rows are:{len(df)}\")"
   ]
  },
  {
   "cell_type": "markdown",
   "id": "271fa9f2-834a-4198-b10a-ba5285437f24",
   "metadata": {},
   "source": [
    "Therefore no duplicate rows found"
   ]
  },
  {
   "cell_type": "markdown",
   "id": "ab67ebd4-a2ed-4a72-91bb-8c1bb0394c95",
   "metadata": {},
   "source": [
    "REMOVE INVALID PRICES"
   ]
  },
  {
   "cell_type": "code",
   "execution_count": 20,
   "id": "8339e02f-ff4e-45e2-bd80-8a2aa91809e5",
   "metadata": {},
   "outputs": [],
   "source": [
    "df=df[df['price']>0]"
   ]
  },
  {
   "cell_type": "markdown",
   "id": "d592f911-6c42-4b46-8f60-0aae6ce1086a",
   "metadata": {},
   "source": [
    "KEEP ONLY NECESSARY COLUMNS OF USE"
   ]
  },
  {
   "cell_type": "code",
   "execution_count": 23,
   "id": "df0c044d-810f-4932-8d3b-82ad095dd36d",
   "metadata": {},
   "outputs": [],
   "source": [
    "columns_to_keep=['id','title','price','description','category','rating_rate','rating_count']\n",
    "df=df[columns_to_keep]"
   ]
  },
  {
   "cell_type": "code",
   "execution_count": 24,
   "id": "d3dcedf4-5bfe-4b0b-b289-c65f68144972",
   "metadata": {},
   "outputs": [
    {
     "name": "stdout",
     "output_type": "stream",
     "text": [
      "Cleaned data saved\n"
     ]
    },
    {
     "data": {
      "text/html": [
       "<div>\n",
       "<style scoped>\n",
       "    .dataframe tbody tr th:only-of-type {\n",
       "        vertical-align: middle;\n",
       "    }\n",
       "\n",
       "    .dataframe tbody tr th {\n",
       "        vertical-align: top;\n",
       "    }\n",
       "\n",
       "    .dataframe thead th {\n",
       "        text-align: right;\n",
       "    }\n",
       "</style>\n",
       "<table border=\"1\" class=\"dataframe\">\n",
       "  <thead>\n",
       "    <tr style=\"text-align: right;\">\n",
       "      <th></th>\n",
       "      <th>id</th>\n",
       "      <th>title</th>\n",
       "      <th>price</th>\n",
       "      <th>description</th>\n",
       "      <th>category</th>\n",
       "      <th>rating_rate</th>\n",
       "      <th>rating_count</th>\n",
       "    </tr>\n",
       "  </thead>\n",
       "  <tbody>\n",
       "    <tr>\n",
       "      <th>0</th>\n",
       "      <td>1</td>\n",
       "      <td>Fjallraven - Foldsack No. 1 Backpack, Fits 15 ...</td>\n",
       "      <td>109.95</td>\n",
       "      <td>Your perfect pack for everyday use and walks i...</td>\n",
       "      <td>men's clothing</td>\n",
       "      <td>3.9</td>\n",
       "      <td>120</td>\n",
       "    </tr>\n",
       "  </tbody>\n",
       "</table>\n",
       "</div>"
      ],
      "text/plain": [
       "   id                                              title   price  \\\n",
       "0   1  Fjallraven - Foldsack No. 1 Backpack, Fits 15 ...  109.95   \n",
       "\n",
       "                                         description        category  \\\n",
       "0  Your perfect pack for everyday use and walks i...  men's clothing   \n",
       "\n",
       "   rating_rate  rating_count  \n",
       "0          3.9           120  "
      ]
     },
     "execution_count": 24,
     "metadata": {},
     "output_type": "execute_result"
    }
   ],
   "source": [
    "df.to_csv(\"../data/products_clean.csv\",index=False)\n",
    "print(\"Cleaned data saved\")\n",
    "df.head(1)"
   ]
  }
 ],
 "metadata": {
  "kernelspec": {
   "display_name": "Python 3 (ipykernel)",
   "language": "python",
   "name": "python3"
  },
  "language_info": {
   "codemirror_mode": {
    "name": "ipython",
    "version": 3
   },
   "file_extension": ".py",
   "mimetype": "text/x-python",
   "name": "python",
   "nbconvert_exporter": "python",
   "pygments_lexer": "ipython3",
   "version": "3.12.3"
  }
 },
 "nbformat": 4,
 "nbformat_minor": 5
}
